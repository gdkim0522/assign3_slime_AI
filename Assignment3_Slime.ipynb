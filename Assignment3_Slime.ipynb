{
 "cells": [
  {
   "cell_type": "markdown",
   "id": "88bc79f3",
   "metadata": {},
   "source": [
    "<a href=\"https://colab.research.google.com/github/gdkim0522/assign3_slime_AI/blob/main/Assignment3_Slime.ipynb\">\n",
    "  <img src=\"https://colab.research.google.com/assets/colab-badge.svg\" alt=\"Open In Colab\"/>\n",
    "</a>"
   ]
  },
  {
   "cell_type": "code",
   "execution_count": 315,
   "id": "44167c5f",
   "metadata": {},
   "outputs": [
    {
     "data": {
      "text/plain": [
       "array([[0, 1],\n",
       "       [2, 3],\n",
       "       [4, 5],\n",
       "       [6, 7],\n",
       "       [8, 9]])"
      ]
     },
     "execution_count": 315,
     "metadata": {},
     "output_type": "execute_result"
    }
   ],
   "source": [
    "import pandas as pd\n",
    "import numpy as np\n",
    "from sklearn.model_selection import train_test_split\n",
    "import sklearn.linear_model\n",
    "from mpl_toolkits.mplot3d import Axes3D\n",
    "\n",
    "import matplotlib.pyplot as plt\n",
    "import numpy as np\n",
    "from sklearn import datasets, linear_model\n",
    "from sklearn.metrics import mean_squared_error, r2_score\n",
    "from sklearn.preprocessing import PolynomialFeatures\n",
    "from sklearn.model_selection import KFold\n",
    "from sklearn.model_selection import cross_val_score\n",
    "\n",
    "#from IPython.display import display, Markdown, Latex\n",
    "from IPython.display import Markdown as md\n",
    "\n",
    "X, y = np.arange(10).reshape((5, 2)), range(5)\n",
    "X"
   ]
  },
  {
   "cell_type": "markdown",
   "id": "684d27aa",
   "metadata": {},
   "source": [
    "<span style='color:Black;font-size: 250%'># Part 1. Loading the dataset</span>"
   ]
  },
  {
   "cell_type": "code",
   "execution_count": 316,
   "id": "2a779d29",
   "metadata": {},
   "outputs": [
    {
     "name": "stdout",
     "output_type": "stream",
     "text": [
      "    Temperature °C  Mols KCL     Size nm^3\n",
      "0              469       647  6.244743e+05\n",
      "1              403       694  5.779610e+05\n",
      "2              302       975  6.196847e+05\n",
      "3              779       916  1.460449e+06\n",
      "4              901        18  4.325726e+04\n",
      "5              545       637  7.124634e+05\n",
      "6              660       519  7.006960e+05\n",
      "7              143       869  2.718260e+05\n",
      "8               89       461  8.919803e+04\n",
      "9              294       776  4.770210e+05\n",
      "10             991       117  2.441771e+05\n",
      "11             307       781  5.006455e+05\n",
      "12             206        70  3.145200e+04\n",
      "13             437       599  5.390215e+05\n",
      "14             566        75  9.185271e+04\n",
      "<class 'pandas.core.frame.DataFrame'>\n",
      "RangeIndex: 1000 entries, 0 to 999\n",
      "Data columns (total 3 columns):\n",
      " #   Column          Non-Null Count  Dtype  \n",
      "---  ------          --------------  -----  \n",
      " 0   Temperature °C  1000 non-null   int64  \n",
      " 1   Mols KCL        1000 non-null   int64  \n",
      " 2   Size nm^3       1000 non-null   float64\n",
      "dtypes: float64(1), int64(2)\n",
      "memory usage: 23.6 KB\n"
     ]
    }
   ],
   "source": [
    "#Load dataset remotely\n",
    "df = pd.read_csv(\"https://raw.githubusercontent.com/profmcnich/example_notebook/main/science_data_large.csv\")\n",
    "\n",
    "#Display first 15 rows\n",
    "result = df.head(15)\n",
    "print(result)\n",
    "\n",
    "#Display summary of table information\n",
    "df.info()"
   ]
  },
  {
   "cell_type": "markdown",
   "id": "e7ed46e3",
   "metadata": {},
   "source": [
    "<span style='color:Black;font-size: 250%'># Part 2. Splitting the dataset</span>"
   ]
  },
  {
   "cell_type": "code",
   "execution_count": 317,
   "id": "eca3f2ce",
   "metadata": {},
   "outputs": [],
   "source": [
    "# Take the pandas dataset and split it into our features (X) and label (y)\n",
    "features = df.iloc[:,0:2]\n",
    "label = df.iloc[:,2:3]\n",
    "\n",
    "# Use sklearn to split the features and labels into a training/test set. (90% train, 10% test)\n",
    "train_data, test_data = train_test_split(df, test_size=0.1, random_state = 25)\n",
    "\n",
    "# Take the pandas dataset and split it into our features (X) and label (y)\n",
    "X_train_data = train_data.iloc[:,0:2]\n",
    "Y_train_data = train_data.iloc[:,2:3]\n",
    "\n",
    "X_test_data = test_data.iloc[:,0:2]\n",
    "Y_test_data = test_data.iloc[:,2:3]\n"
   ]
  },
  {
   "cell_type": "markdown",
   "id": "d617937d",
   "metadata": {},
   "source": [
    "<span style='color:Black;font-size: 250%'># Part 3. Perform Linear Regression</span>"
   ]
  },
  {
   "cell_type": "code",
   "execution_count": 318,
   "id": "5da29bdf",
   "metadata": {},
   "outputs": [
    {
     "data": {
      "text/plain": [
       "array([[258404.33014083]])"
      ]
     },
     "execution_count": 318,
     "metadata": {},
     "output_type": "execute_result"
    }
   ],
   "source": [
    "# Create linear regression object\n",
    "regr = linear_model.LinearRegression()\n",
    "\n",
    "regr.fit(X_train_data, Y_train_data)\n",
    "\n",
    "# Make predictions using the testing set\n",
    "Y_test_pred = regr.predict(X_test_data)\n",
    "regr.predict([[300, 400]])"
   ]
  },
  {
   "cell_type": "markdown",
   "id": "28fd8939",
   "metadata": {},
   "source": [
    "This value of the size in nm seems reasonable given the original dataset."
   ]
  },
  {
   "cell_type": "code",
   "execution_count": 319,
   "id": "a876cbed",
   "metadata": {},
   "outputs": [
    {
     "name": "stdout",
     "output_type": "stream",
     "text": [
      "Coefficients: \n",
      " [[ 878.74381809 1044.28874415]]\n",
      "Intercept: \n",
      " [-422934.31294534]\n",
      "Score: \n",
      " 0.8490438915970394\n",
      "2\n"
     ]
    }
   ],
   "source": [
    "# The coefficients\n",
    "print(\"Coefficients: \\n\", regr.coef_)\n",
    "# The intercept\n",
    "print(\"Intercept: \\n\", regr.intercept_)\n",
    "# The score\n",
    "print(\"Score: \\n\", regr.score(X_test_data, Y_test_data))\n",
    "\n",
    "\"\"\"\n",
    "# The coefficients\n",
    "print(\"Coefficients 1: \\n\", regr.coef_.index(0))\n",
    "# The coefficients\n",
    "print(\"Coefficients 1: \\n\", regr.coef_.index(1))\n",
    "\"\"\"\n",
    "\n",
    "a=2\n",
    "print(a)"
   ]
  },
  {
   "cell_type": "markdown",
   "id": "e0560af9",
   "metadata": {},
   "source": [
    "md(f\"data {a}\")\n",
    "The score value is $\\sqrt{{a}}$ is pretty much consistent in terms of being reliable since it close to the value of 1.\n",
    "\n",
    "The score value is {{regr.score(X_test_data, Y_test_data)}} is pretty much consistent in terms of being reliable since it close to the value of 1.\n",
    "Euler $$ e^{i \\pi} + 1 = 0 regr.coef_ $$ \n",
    "Coeff $$ e^{i \\pi} + 1 = 0 regr.score(X_test_data, Y_test_data) $$ \n",
    "$h(x) = {{regr.coef_}}$\n",
    "\n",
    "display(Markdown(f'The value of a is {a}'))"
   ]
  },
  {
   "cell_type": "markdown",
   "id": "e61dbf16",
   "metadata": {},
   "source": [
    "<span style='color:Black;font-size: 250%'># Part 4. Use Cross Validation</span>"
   ]
  },
  {
   "cell_type": "code",
   "execution_count": 320,
   "id": "d294c221",
   "metadata": {},
   "outputs": [
    {
     "data": {
      "text/plain": [
       "array([0.83918826, 0.87051239, 0.85871066, 0.87202623, 0.84364641])"
      ]
     },
     "execution_count": 320,
     "metadata": {},
     "output_type": "execute_result"
    }
   ],
   "source": [
    "kf5 = KFold(n_splits=5, shuffle=False)\n",
    "kf3 = KFold(n_splits=5, shuffle=False)\n",
    "\n",
    "#cross_val_score(regr, X_test_data, Y_test_data, cv=5)\n",
    "\n",
    "#One thousand\n",
    "cross_val_score(regr, features, label, cv=5)"
   ]
  },
  {
   "cell_type": "markdown",
   "id": "663ec5e9",
   "metadata": {},
   "source": [
    "Using the cross validation feature, the score values ranges from 0.84 to 0.87.\n",
    "This is pretty much consistent in terms of being reliable in predicitng any data point."
   ]
  },
  {
   "cell_type": "markdown",
   "id": "cf881847",
   "metadata": {},
   "source": [
    "<span style='color:Black;font-size: 250%'># Part 5. Perform Polynomial Regression</span>"
   ]
  },
  {
   "cell_type": "code",
   "execution_count": 321,
   "id": "cbfc1b72",
   "metadata": {},
   "outputs": [
    {
     "name": "stdout",
     "output_type": "stream",
     "text": [
      "Coefficients: \n",
      " 0.02857142871413702\n",
      "Intercept: \n",
      " [2.06597033e-05]\n",
      "Score: \n",
      " 1.0\n"
     ]
    }
   ],
   "source": [
    "from sklearn.preprocessing import PolynomialFeatures\n",
    "\n",
    "#Using PolynomialFeatures and perform regression on augmented datast of degree 2\n",
    "poly = PolynomialFeatures(degree=2)\n",
    "poly_train = poly.fit_transform(X_train_data)\n",
    "poly_test = poly.fit_transform(X_test_data)\n",
    "\n",
    "regr = linear_model.LinearRegression()\n",
    "regr.fit(poly_train, Y_train_data)\n",
    "\n",
    "\n",
    "# Report metrics and output resultant equation.\n",
    "print(\"Coefficients: \\n\", regr.coef_[0][5])\n",
    "# The intercept\n",
    "print(\"Intercept: \\n\", regr.intercept_)\n",
    "# The score\n",
    "print(\"Score: \\n\", regr.score(poly_test, Y_test_data))"
   ]
  },
  {
   "cell_type": "markdown",
   "id": "0182c361",
   "metadata": {},
   "source": [
    "The score value is $regr.score(poly_test, Y_test_data)$ is 1, and it shows that polynomial regression of degree 2 is better than linear regression in terms of estimating values of data points.\n",
    "Euler $$ e^{i \\pi} + 1 = 0$$"
   ]
  }
 ],
 "metadata": {
  "kernelspec": {
   "display_name": "Python 3",
   "language": "python",
   "name": "python3"
  },
  "language_info": {
   "codemirror_mode": {
    "name": "ipython",
    "version": 3
   },
   "file_extension": ".py",
   "mimetype": "text/x-python",
   "name": "python",
   "nbconvert_exporter": "python",
   "pygments_lexer": "ipython3",
   "version": "3.8.8"
  }
 },
 "nbformat": 4,
 "nbformat_minor": 5
}
